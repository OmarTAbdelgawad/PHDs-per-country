{
 "cells": [
  {
   "cell_type": "markdown",
   "id": "382f6026-c6ec-4f8b-bd73-3a2d3b5c4e44",
   "metadata": {},
   "source": [
    "### PH"
   ]
  },
  {
   "cell_type": "markdown",
   "id": "056ae8eb-9b9e-4ea2-9daf-95789acf50dc",
   "metadata": {},
   "source": [
    "##### Omar Abdelgawad"
   ]
  },
  {
   "cell_type": "markdown",
   "id": "f47e0b90-9d02-489f-9ace-0bc43a353b04",
   "metadata": {},
   "source": [
    "###### After finishing this assignment, I noticed how raunchy the code had to get for it to work, so apologies in advance lol "
   ]
  },
  {
   "cell_type": "markdown",
   "id": "7c08eef8-a307-4662-8097-0d29ef2bbf80",
   "metadata": {},
   "source": [
    "###### Import Libraries"
   ]
  },
  {
   "cell_type": "code",
   "execution_count": 1,
   "id": "4ae0e64f-8da0-4fb7-a384-cda0f6cbab5f",
   "metadata": {},
   "outputs": [],
   "source": [
    "import pandas as pd\n",
    "import matplotlib.pyplot as plt \n",
    "import seaborn as sns\n",
    "import ipywidgets as widgets\n",
    "from ipywidgets import interact, interact_manual"
   ]
  },
  {
   "cell_type": "markdown",
   "id": "c3ad9b6e-d0df-445d-a8a1-a2331147bea1",
   "metadata": {},
   "source": [
    "###### load dataset"
   ]
  },
  {
   "cell_type": "code",
   "execution_count": 2,
   "id": "9251ebbd-979d-4c1b-be72-7f470353e19f",
   "metadata": {},
   "outputs": [],
   "source": [
    "df = pd.read_csv(\"phds_country.csv\")"
   ]
  },
  {
   "cell_type": "markdown",
   "id": "7b38d021-3263-4419-9e08-978404d3e3a7",
   "metadata": {},
   "source": [
    "###### filter and rename data for ease of use"
   ]
  },
  {
   "cell_type": "code",
   "execution_count": 3,
   "id": "f3995f91-9e4c-43ef-8977-c7a2febb2789",
   "metadata": {
    "tags": []
   },
   "outputs": [],
   "source": [
    "countries = df['Country']\n",
    "regions = df['Region']\n",
    "\n",
    "viewtype = ['All Fields', 'All S&E', 'Physical & Biological Sciences', 'Mathematics & Computer Sciences',\n",
    "            'Agricultural Sciences', 'Social & Behavioral Sciences', 'Engineering', 'Non-S&E']\n",
    "\n",
    "male_df = df[[col for col in df.columns if 'Male' in col]]\n",
    "male_df.index = countries\n",
    "male_df = male_df.reset_index()\n",
    "male_df = male_df.rename(columns={'All Fields - Male': 'All Fields',\n",
    "                                  'All S&E - Male': 'All S&E',\n",
    "                                  'Physical & Biological Sciences - Male': 'Physical & Biological Sciences',\n",
    "                                  'Mathematics & Computer Sciences - Male': 'Mathematics & Computer Sciences',\n",
    "                                  'Agricultural Sciences - Male': 'Agricultural Sciences',\n",
    "                                  'Social & Behavioral Sciences - Male': 'Social & Behavioral Sciences',\n",
    "                                  'Engineering - Male': 'Engineering',\n",
    "                                  'Non-S&E - Male': 'Non-S&E'})\n",
    "\n",
    "female_df = df[[col for col in df.columns if 'Female' in col]]\n",
    "female_df.index = countries\n",
    "female_df = female_df.reset_index()\n",
    "female_df = female_df.rename(columns={'All Fields - Female': 'All Fields',\n",
    "                                    'All S&E - Female': 'All S&E',\n",
    "                                    'Physical & Biological Sciences - Female': 'Physical & Biological Sciences',\n",
    "                                    'Mathematics & Computer Sciences - Female': 'Mathematics & Computer Sciences',\n",
    "                                    'Agricultural Sciences - Female': 'Agricultural Sciences',\n",
    "                                    'Social & Behavioral Sciences - Female': 'Social & Behavioral Sciences',\n",
    "                                    'Engineering - Female': 'Engineering',\n",
    "                                    'Non-S&E - Female': 'Non-S&E'})"
   ]
  },
  {
   "cell_type": "markdown",
   "id": "dafb0096-5710-4851-8a3d-69de51b8b0b7",
   "metadata": {},
   "source": [
    "###### Create percentages of our filtered data from the total, and create a total dataset, while filling missing values with 0"
   ]
  },
  {
   "cell_type": "code",
   "execution_count": 4,
   "id": "03f19c47-e299-444b-aa58-04e9c854a9fe",
   "metadata": {},
   "outputs": [],
   "source": [
    "fem_percent =  df #create duplicate df\n",
    "fem_percent['All Fields'] = (female_df['All Fields']/( female_df['All Fields'] + male_df['All Fields']))*100\n",
    "fem_percent['All S&E'] = (female_df['All S&E'] /( female_df['All S&E'] + male_df['All S&E']))*100\n",
    "fem_percent['Physical & Biological Sciences'] = (female_df['Physical & Biological Sciences']/( female_df['Physical & Biological Sciences'] + male_df['Physical & Biological Sciences']))*100\n",
    "fem_percent['Mathematics & Computer Sciences'] = (female_df['Mathematics & Computer Sciences']/( female_df['Mathematics & Computer Sciences'] + male_df['Mathematics & Computer Sciences']))*100\n",
    "fem_percent['Agricultural Sciences'] = (female_df['Agricultural Sciences']/(female_df['Agricultural Sciences']+male_df['Agricultural Sciences']))*100\n",
    "fem_percent['Social & Behavioral Sciences'] = (female_df['Social & Behavioral Sciences']/(female_df['Social & Behavioral Sciences']+male_df['Social & Behavioral Sciences']))*100\n",
    "fem_percent['Engineering'] = (female_df['Engineering']/(female_df['Engineering']+male_df['Engineering']))*100\n",
    "fem_percent['Non-S&E'] = (female_df['Non-S&E']/(female_df['Non-S&E']+male_df['Non-S&E']))*100\n",
    "fem_percent = fem_percent.loc[:, 'All Fields'::]\n",
    "\n",
    "fem_percent.index = regions # reassigning regions to rows\n",
    "fem_percent = fem_percent.reset_index()\n",
    "fem_percent.index = countries\n",
    "fem_percent = fem_percent.reset_index()\n",
    "fem_percent = fem_percent.fillna(0)\n",
    "\n",
    "\n",
    "m_percent = df #create duplicate df\n",
    "m_percent['All Fields'] = (male_df['All Fields']/( female_df['All Fields'] + male_df['All Fields']))*100\n",
    "m_percent['All S&E'] = (male_df['All S&E'] /( female_df['All S&E'] + male_df['All S&E']))*100\n",
    "m_percent['Physical & Biological Sciences'] = (male_df['Physical & Biological Sciences']/( female_df['Physical & Biological Sciences'] + male_df['Physical & Biological Sciences']))*100\n",
    "m_percent['Mathematics & Computer Sciences'] = (male_df['Mathematics & Computer Sciences']/( female_df['Mathematics & Computer Sciences'] + male_df['Mathematics & Computer Sciences']))*100\n",
    "m_percent['Agricultural Sciences'] = (male_df['Agricultural Sciences']/(female_df['Agricultural Sciences']+male_df['Agricultural Sciences']))*100\n",
    "m_percent['Social & Behavioral Sciences'] = (male_df['Social & Behavioral Sciences']/(female_df['Social & Behavioral Sciences']+male_df['Social & Behavioral Sciences']))*100\n",
    "m_percent['Engineering'] = (male_df['Engineering']/(female_df['Engineering']+male_df['Engineering']))*100\n",
    "m_percent['Non-S&E'] = (male_df['Non-S&E']/(female_df['Non-S&E']+male_df['Non-S&E']))*100\n",
    "m_percent = m_percent.loc[:, 'All Fields'::]\n",
    "\n",
    "m_percent.index = regions # reassigning regions to rows\n",
    "m_percent = m_percent.reset_index()\n",
    "m_percent.index = countries\n",
    "m_percent = m_percent.reset_index()\n",
    "m_percent = m_percent.fillna(0)\n",
    "\n",
    "\n",
    "df_total = df #create duplicate df\n",
    "df_total['All Fields'] =  female_df['All Fields']+male_df['All Fields']\n",
    "df_total['All S&E'] = female_df['All S&E'] + male_df['All S&E']\n",
    "df_total['Physical & Biological Sciences'] = female_df['Physical & Biological Sciences'] + male_df['Physical & Biological Sciences']\n",
    "df_total['Mathematics & Computer Sciences'] = female_df['Mathematics & Computer Sciences'] + male_df['Mathematics & Computer Sciences']\n",
    "df_total['Agricultural Sciences'] = female_df['Agricultural Sciences']+male_df['Agricultural Sciences']\n",
    "df_total['Social & Behavioral Sciences'] = female_df['Social & Behavioral Sciences']+male_df['Social & Behavioral Sciences']\n",
    "df_total['Engineering'] = (female_df['Engineering']+male_df['Engineering'])\n",
    "df_total['Non-S&E'] = female_df['Non-S&E']+male_df['Non-S&E']\n",
    "df_total = df_total.loc[:, 'All Fields'::]\n",
    "\n",
    "df_total.index = regions # reassigining regions to rows\n",
    "df_total= df_total.reset_index()\n",
    "df_total.index = countries\n",
    "df_total= df_total.reset_index()"
   ]
  },
  {
   "cell_type": "markdown",
   "id": "dc481153-182a-48a0-904a-d26086585c7e",
   "metadata": {},
   "source": [
    "###### Create our lists, which will be taken into the function as parameters"
   ]
  },
  {
   "cell_type": "code",
   "execution_count": 5,
   "id": "3e8f6148-9473-44ee-9ba6-ece763229fe2",
   "metadata": {},
   "outputs": [],
   "source": [
    "components = ['Female', 'Male', 'Total']\n",
    "order = ['Ascending Females %', 'Region']"
   ]
  },
  {
   "cell_type": "markdown",
   "id": "86c99316-3c90-43ba-97b6-755182bba9da",
   "metadata": {},
   "source": [
    "###### Plot the correct scatterplot based on the options selected, with the size being the value of the percentage of the chosen category"
   ]
  },
  {
   "cell_type": "code",
   "execution_count": 6,
   "id": "38abbe95-56e6-4a8c-a28c-4c2c186806c5",
   "metadata": {
    "tags": []
   },
   "outputs": [],
   "source": [
    "def f(category_id, Male= True, Female = True, Total = False, order = order):\n",
    "    fig, ax = plt.subplots(figsize=(9,6))\n",
    "    \n",
    "    if(order == 'Ascending Females %'):        \n",
    "        if(Male):\n",
    "            sort_m = m_percent.sort_values(by= category_id, ascending = False)\n",
    "            sns.scatterplot(x= 'Country', y = category_id, size = category_id, data = sort_m, ax = ax, color = 'orange', alpha = 0.7)\n",
    "        if(Female):\n",
    "            sort_fem = fem_percent.sort_values(by= category_id, ascending = True)\n",
    "            sns.scatterplot(x= 'Country', y = category_id, size = category_id, data = sort_fem, ax = ax, color = 'teal', alpha = 0.7)\n",
    "        if(Total):\n",
    "            sort_m = m_percent.sort_values(by=category_id, ascending=False )\n",
    "            sort_fem = fem_percent.sort_values(by= category_id, ascending= True)\n",
    "            sns.scatterplot(x = 'Country', y = category_id, size= category_id, data= sort_fem, ax = ax, color = 'gray', alpha = 0.5)\n",
    "            sns.scatterplot(x = 'Country', y = category_id, size= category_id, data= sort_m, ax = ax, color = 'gray', alpha = 0.5)\n",
    "        \n",
    "        \n",
    "    if(order == 'Region'):    \n",
    "        if(Male):\n",
    "            sort_m = m_percent.sort_values(by='Region' )\n",
    "            sns.scatterplot(x= 'Country', y = category_id, size = category_id, data = sort_m, ax = ax, color = 'orange', alpha = 0.7)\n",
    "        if(Female):\n",
    "            sort_fem = fem_percent.sort_values(by= 'Region')\n",
    "            sns.scatterplot(x= 'Country', y = category_id, size = category_id, data = sort_fem, ax = ax, color = 'teal', alpha = 0.7)\n",
    "        if(Total):\n",
    "            sort_m = m_percent.sort_values(by='Region' )\n",
    "            sort_fem = fem_percent.sort_values(by= 'Region')\n",
    "            sns.scatterplot(x = 'Country', y = category_id, size= category_id, data= sort_m, ax = ax, color = 'gray',alpha = 0.5)\n",
    "            sns.scatterplot(x = 'Country', y = category_id, size= category_id, data= sort_fem, ax = ax, color = 'gray',alpha = 0.5)\n",
    "    \n",
    "\n",
    "    plt.xticks(rotation=90)\n",
    "    ax.set_ylabel('% of total')\n",
    "    ax.get_legend().remove()\n",
    "    ax.set_title('PHDs Per Country')"
   ]
  },
  {
   "cell_type": "markdown",
   "id": "75f43323-03e1-4ec0-a1cc-023ce08e8933",
   "metadata": {},
   "source": [
    "###### *breathe* "
   ]
  },
  {
   "cell_type": "code",
   "execution_count": 8,
   "id": "37b16956-fddf-4f34-b5ff-481978da7088",
   "metadata": {},
   "outputs": [
    {
     "data": {
      "application/vnd.jupyter.widget-view+json": {
       "model_id": "2f1e376af2464f7fb8f17b19b05e16ff",
       "version_major": 2,
       "version_minor": 0
      },
      "text/plain": [
       "interactive(children=(Dropdown(description='View Type:', options=('All Fields', 'All S&E', 'Physical & Biologi…"
      ]
     },
     "metadata": {},
     "output_type": "display_data"
    },
    {
     "data": {
      "text/plain": [
       "<function __main__.f(category_id, Male=True, Female=True, Total=False, order=['Ascending Females %', 'Region'])>"
      ]
     },
     "execution_count": 8,
     "metadata": {},
     "output_type": "execute_result"
    }
   ],
   "source": [
    "widgets.interact(f, category_id = widgets.Dropdown(options=viewtype, description='View Type:'), \n",
    "                    order = widgets.ToggleButtons(options = order, description = 'Ordering:'), legend = True)"
   ]
  },
  {
   "cell_type": "code",
   "execution_count": null,
   "id": "7527ce0c-a69c-4ff6-a4ea-fa0700030089",
   "metadata": {},
   "outputs": [],
   "source": []
  }
 ],
 "metadata": {
  "kernelspec": {
   "display_name": "Python 3",
   "language": "python",
   "name": "python3"
  },
  "language_info": {
   "codemirror_mode": {
    "name": "ipython",
    "version": 3
   },
   "file_extension": ".py",
   "mimetype": "text/x-python",
   "name": "python",
   "nbconvert_exporter": "python",
   "pygments_lexer": "ipython3",
   "version": "3.6.7rc1"
  }
 },
 "nbformat": 4,
 "nbformat_minor": 5
}
